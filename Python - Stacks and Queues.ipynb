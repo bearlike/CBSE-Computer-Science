{
 "cells": [
  {
   "cell_type": "markdown",
   "id": "03566bd5-10e0-49d1-8abd-1883b6bc0b00",
   "metadata": {},
   "source": [
    "# Stack and Queues in Python"
   ]
  },
  {
   "cell_type": "markdown",
   "id": "0dc07ec2-abd7-4c75-9018-0f24b3bfee57",
   "metadata": {},
   "source": [
    "Data structures organize storage in computers so that we can efficiently access and change data. Stacks and Queues are some of the earliest data structures defined in computer science.\n",
    "\n",
    "## Stack\n",
    "Stacks, like the name suggests, follow the **Last-in-First-Out (LIFO)** principle. It is a linear data structure which follows a particular order in which the operations are performed. As if stacking plates one on top of the other, the last plate we put on the top is the one that is the first to be removed from the stack later.\n",
    "\n",
    "<img width=500 src=\"https://www.section.io/engineering-education/stack-data-structure-python/pushpop.png\" />\n",
    "\n",
    "### Basic operations you can perform in a stack \n",
    "- **`Push`** - Adds an element to the top of the stack.\n",
    "- **`Pop`** - Removes the element at the top of the stack.\n",
    "- **`Peek`** or **`top`** - Look at the top of the stack\n"
   ]
  },
  {
   "cell_type": "markdown",
   "id": "e52cdcf3-3a95-4598-a9f2-fef4369561b9",
   "metadata": {},
   "source": [
    "### Implementing Stack using list"
   ]
  },
  {
   "cell_type": "code",
   "execution_count": 1,
   "id": "80b1b0d1-0a06-48c9-9fd7-67ec6390a0d0",
   "metadata": {},
   "outputs": [],
   "source": [
    "stack = [] "
   ]
  },
  {
   "cell_type": "markdown",
   "id": "8e8bc2c4-f6b1-4911-a175-5421819b144d",
   "metadata": {},
   "source": [
    "### Function to print top element of stack"
   ]
  },
  {
   "cell_type": "code",
   "execution_count": 2,
   "id": "92b980fd-7f91-4186-af17-875fd002d7ff",
   "metadata": {},
   "outputs": [],
   "source": [
    "def top(stack):\n",
    "    if stack != []:\n",
    "        print(\"{} is top element\".format(stack[-1]))\n",
    "    else:\n",
    "        print(\"Stack Empty!!!\")"
   ]
  },
  {
   "cell_type": "markdown",
   "id": "bb8fea02-e1c5-4823-aa07-b99c9df806a9",
   "metadata": {},
   "source": [
    "### Function to print size of stack"
   ]
  },
  {
   "cell_type": "code",
   "execution_count": 3,
   "id": "8fd0fc9d-3ab7-4737-a019-047b05c14eb8",
   "metadata": {},
   "outputs": [],
   "source": [
    "def size(stack):\n",
    "    print(\"Size of stack is {}\".format(len(stack)))"
   ]
  },
  {
   "cell_type": "markdown",
   "id": "44e9f122-c5e3-40a5-a482-9cbe394be557",
   "metadata": {},
   "source": [
    "### Function to check if a stack is empty"
   ]
  },
  {
   "cell_type": "code",
   "execution_count": 4,
   "id": "81cd01a4-3cbf-42dc-8079-d0cc1c2fa7fb",
   "metadata": {},
   "outputs": [],
   "source": [
    "def empty(stack):\n",
    "    if stack == []:\n",
    "        return True\n",
    "    else:\n",
    "        return False"
   ]
  },
  {
   "cell_type": "markdown",
   "id": "469955a3-75ab-49b0-947e-cd03adb2fa03",
   "metadata": {},
   "source": [
    "### Function to `Push` element into stack"
   ]
  },
  {
   "cell_type": "code",
   "execution_count": 5,
   "id": "e5aeb491-8594-4658-aa10-99fc7c405119",
   "metadata": {},
   "outputs": [],
   "source": [
    "def push(stack, value):\n",
    "    stack.append(value)\n",
    "    print(\"Pushed {} into stack\".format(value))"
   ]
  },
  {
   "cell_type": "markdown",
   "id": "590ab40c-377a-420b-b3f7-092f8d173c6b",
   "metadata": {},
   "source": [
    "### Function to `Pop` elements from stack"
   ]
  },
  {
   "cell_type": "code",
   "execution_count": 6,
   "id": "a1faa203-8421-4141-ae21-115e2de4cba7",
   "metadata": {},
   "outputs": [],
   "source": [
    "def pop(stack):\n",
    "    if not empty(stack):\n",
    "        print(\"{} is popped\".format(stack.pop()))\n",
    "    else:\n",
    "        print(\"Cannot Pop since stack is empty\")"
   ]
  },
  {
   "cell_type": "markdown",
   "id": "a030a214-efef-4d58-a143-f1a2ec3749f8",
   "metadata": {},
   "source": [
    "### Function to print the complete stack"
   ]
  },
  {
   "cell_type": "code",
   "execution_count": 8,
   "id": "ae63f083-5b20-452b-958e-25f47a96a2a5",
   "metadata": {},
   "outputs": [],
   "source": [
    "def show_stack(stack):\n",
    "    print(\"Full stack is {}\".format(stack))"
   ]
  },
  {
   "cell_type": "markdown",
   "id": "497135df-0b0b-4860-8a19-1d159fba4a6b",
   "metadata": {},
   "source": [
    "### Taking Stacks out for a spin"
   ]
  },
  {
   "cell_type": "code",
   "execution_count": 9,
   "id": "4f2d560b-8d88-4ad0-993f-f325cc70bdb2",
   "metadata": {},
   "outputs": [
    {
     "name": "stdout",
     "output_type": "stream",
     "text": [
      "Pushed 1 into stack\n",
      "Pushed 2 into stack\n",
      "Pushed 3 into stack\n",
      "Full stack is [1, 2, 3]\n",
      "Size of stack is 3\n",
      "3 is top element\n",
      "3 is popped\n",
      "Full stack is [1, 2]\n",
      "2 is popped\n",
      "1 is popped\n",
      "Cannot Pop since stack is empty\n",
      "Full stack is []\n"
     ]
    },
    {
     "data": {
      "text/plain": [
       "True"
      ]
     },
     "execution_count": 9,
     "metadata": {},
     "output_type": "execute_result"
    }
   ],
   "source": [
    "# Pushing elements into a stack\n",
    "push(stack, 1)\n",
    "push(stack, 2)\n",
    "push(stack, 3)\n",
    "\n",
    "# Printing stack\n",
    "show_stack(stack)\n",
    "\n",
    "# Printing stack size\n",
    "size(stack)\n",
    "\n",
    "# Printing top of stack\n",
    "top(stack)\n",
    "\n",
    "# Popping elements from a stack\n",
    "pop(stack)\n",
    "\n",
    "show_stack(stack) \n",
    "\n",
    "# Check if stack is empty\n",
    "empty(stack)\n",
    "\n",
    "# More popping elements from a stack\n",
    "pop(stack)\n",
    "pop(stack)\n",
    "# The below line would fail since there are no more elements to pop from a stack\n",
    "pop(stack)\n",
    "\n",
    "show_stack(stack)\n",
    "\n",
    "empty(stack)"
   ]
  },
  {
   "cell_type": "code",
   "execution_count": null,
   "id": "b47d97a4-7371-44b8-a8d8-be78fe6c9413",
   "metadata": {},
   "outputs": [],
   "source": []
  }
 ],
 "metadata": {
  "kernelspec": {
   "display_name": "Python 3 (ipykernel)",
   "language": "python",
   "name": "python3"
  },
  "language_info": {
   "codemirror_mode": {
    "name": "ipython",
    "version": 3
   },
   "file_extension": ".py",
   "mimetype": "text/x-python",
   "name": "python",
   "nbconvert_exporter": "python",
   "pygments_lexer": "ipython3",
   "version": "3.9.10"
  }
 },
 "nbformat": 4,
 "nbformat_minor": 5
}
