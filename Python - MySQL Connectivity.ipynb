{
 "cells": [
  {
   "cell_type": "markdown",
   "id": "18954e06-35ea-4ee3-a163-fa5a59c6f5c3",
   "metadata": {},
   "source": [
    "<!-- \n",
    "Author: Krishnakanth Alagiri <https://thekrishna.in/>\n",
    "GitHub: https://github.com/bearlike\n",
    "Title: CBSE Class 12 - Working with Python and MySQL\n",
    "!-->\n",
    "\n",
    "# MySQL Connectivity in Python\n",
    "Intended for CBSE Class 12 Students\n",
    "<center><img src=\"data:image/png;base64,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\" alt=\"mysql-python\" width=\"400\"/></center>"
   ]
  },
  {
   "cell_type": "markdown",
   "id": "eeb054e1-0737-4af6-8f1f-2d933214e7e6",
   "metadata": {
    "jp-MarkdownHeadingCollapsed": true,
    "tags": []
   },
   "source": [
    "## Increase readability in the notebook 🙈"
   ]
  },
  {
   "cell_type": "markdown",
   "id": "d95e163c-3bb6-4e7e-88c0-64c289ecab66",
   "metadata": {},
   "source": [
    "<mark><b>I recommend you hide this cell since it's beyond the scope of your syllabus and can be confusing.</b></mark>"
   ]
  },
  {
   "cell_type": "code",
   "execution_count": 62,
   "id": "bc93ba49-92cf-47bf-8e67-e0fa82222e99",
   "metadata": {},
   "outputs": [],
   "source": [
    "from IPython.display import HTML, display\n",
    "# This function is specific to Jupyter notebooks and is beyond the scope of your syllabus \n",
    "def table(data: list):\n",
    "    \"\"\" Displays a list as a HTML table in Jupyter notebooks\n",
    "    Arguments:\n",
    "        - data (list): A list that should be displayed as a table\n",
    "    \"\"\"\n",
    "    display(HTML(\n",
    "       '<table><tr>{}</tr></table>'.format(\n",
    "           '</tr><tr>'.join(\n",
    "               '<td>{}</td>'.format('</td><td>'.join(str(_) for _ in row)) for row in data)\n",
    "           )\n",
    "    ))"
   ]
  },
  {
   "cell_type": "markdown",
   "id": "29f1f355-6702-4e47-8afc-af497271d408",
   "metadata": {
    "jp-MarkdownHeadingCollapsed": true,
    "tags": []
   },
   "source": [
    "<h2 style=\"color:blue\">String Formatting ✏️ (Prerequisite)</h2>"
   ]
  },
  {
   "cell_type": "markdown",
   "id": "f2070e16-782e-48ac-8d2c-5041db099c50",
   "metadata": {},
   "source": [
    "Here is the basic syntax for the `str.format()` method:\n",
    "\n",
    "`\"template string {}\".format(arguments)`\n",
    "\n",
    "Inside the template string, we can use `{}` which act as placeholders for the arguments. You might need to work with some commands through  "
   ]
  },
  {
   "cell_type": "code",
   "execution_count": 2,
   "id": "4ebcee74-db73-42ae-a400-672718986d16",
   "metadata": {},
   "outputs": [
    {
     "name": "stdout",
     "output_type": "stream",
     "text": [
      "Hello, Krishna. You are awesome\n"
     ]
    }
   ],
   "source": [
    "name = \"Krishna\"\n",
    "print(\"Hello, {}. You are {}\".format(name, \"awesome\"))"
   ]
  },
  {
   "cell_type": "markdown",
   "id": "610ae8e3-e59f-435e-9715-35dd443ade94",
   "metadata": {
    "jp-MarkdownHeadingCollapsed": true,
    "tags": []
   },
   "source": [
    "## Importing the necessary packages 📦"
   ]
  },
  {
   "cell_type": "code",
   "execution_count": 3,
   "id": "9b29d335-7be9-42da-af40-e2f092ba58e3",
   "metadata": {},
   "outputs": [],
   "source": [
    "# This command executed in your system terminal will install the mysql-connector.\n",
    "!pip install -q mysql-connector-python"
   ]
  },
  {
   "cell_type": "code",
   "execution_count": 4,
   "id": "d4ea071f-6d9e-4b27-bcf0-73b56831067a",
   "metadata": {},
   "outputs": [],
   "source": [
    "import mysql.connector"
   ]
  },
  {
   "cell_type": "markdown",
   "id": "d37d4192-a54a-4558-8c5d-6a409531e214",
   "metadata": {
    "jp-MarkdownHeadingCollapsed": true,
    "tags": []
   },
   "source": [
    "## Establishing the connection 🔌"
   ]
  },
  {
   "cell_type": "markdown",
   "id": "dca66f53-ba59-42a9-8711-0767de91fa42",
   "metadata": {},
   "source": [
    "The hostname of our database is `mysql-server` using the default port `3306`. We'll be using `root` user whose password is `0000` (not a secure password but still). We will be using the [`sakila` database](https://dev.mysql.com/doc/sakila/en/)."
   ]
  },
  {
   "cell_type": "code",
   "execution_count": 8,
   "id": "e0e8945f-107f-4c5d-aa3a-4c580baaa306",
   "metadata": {},
   "outputs": [],
   "source": [
    "conn = mysql.connector.connect(\n",
    "   user='root', password='0000', host='mysql-server', database='sakila'\n",
    ")"
   ]
  },
  {
   "cell_type": "markdown",
   "id": "ea8b8c83-e32a-403b-bb43-29042141f4b5",
   "metadata": {
    "tags": []
   },
   "source": [
    "## Creating a cursor object using the `cursor()` method\n",
    "The `MySQLCursor` of the `mysql-connector-python` package/library is used to communicate and execute queries on the MySQL database"
   ]
  },
  {
   "cell_type": "code",
   "execution_count": 9,
   "id": "7eef9afb-419c-4374-9297-849d0c29d264",
   "metadata": {},
   "outputs": [],
   "source": [
    "cursor = conn.cursor()"
   ]
  },
  {
   "cell_type": "markdown",
   "id": "62be0452-554b-4e44-ae5a-b695f9f5bd37",
   "metadata": {
    "jp-MarkdownHeadingCollapsed": true,
    "tags": []
   },
   "source": [
    "## Execute SQL query using `cursor.execute()`"
   ]
  },
  {
   "cell_type": "markdown",
   "id": "417d7113-b545-4c94-be84-15e1230c2b05",
   "metadata": {},
   "source": [
    "- Executes MySQL queries and store the retrieved records in the cursor object.\n",
    "- **Syntax**: `<cursor_object>.execute(SQL_QUERY)`"
   ]
  },
  {
   "cell_type": "code",
   "execution_count": 72,
   "id": "d44a4d99-3797-4210-8e73-4531539cc0a7",
   "metadata": {},
   "outputs": [],
   "source": [
    "# MySQL query is passed as a `string` argument to the below function  \n",
    "cursor.execute(\"SELECT * FROM film_text;\")"
   ]
  },
  {
   "cell_type": "markdown",
   "id": "a80b43a0-5865-4c6f-ba7c-2184ae7602f8",
   "metadata": {
    "jp-MarkdownHeadingCollapsed": true,
    "tags": []
   },
   "source": [
    "## Understanding `cursor.fetchall()`"
   ]
  },
  {
   "cell_type": "markdown",
   "id": "e097d6ff-b98b-4a7f-98e3-12712fa1b61e",
   "metadata": {},
   "source": [
    "- The `cursor.fetchall()` method retrieves all the rows from executed result set of a query and returns them as list of tuples. (If we execute this after retrieving few rows it returns the remaining ones).\n",
    "- MySQL commands (such as SHOW and SELECT) that fetches data from a database can use this function."
   ]
  },
  {
   "cell_type": "code",
   "execution_count": 73,
   "id": "c92245ee-f235-4499-ba68-de7d80f3b5a5",
   "metadata": {},
   "outputs": [
    {
     "name": "stdout",
     "output_type": "stream",
     "text": [
      "[(1, 'ACADEMY DINOSAUR', 'A Epic Drama of a Feminist And a Mad Scientist who must Battle a Teacher in The Canadian Rockies'), (2, 'ACE GOLDFINGER', 'A Astounding Epistle of a Database Administrator And a Explorer who must Find a Car in Ancient China'), (3, 'ADAPTATION HOLES', 'A Astounding Reflection of a Lumberjack And a Car who must Sink a Lumberjack in A Baloon Factory'), (4, 'AFFAIR PREJUDICE', 'A Fanciful Documentary of a Frisbee And a Lumberjack who must Chase a Monkey in A Shark Tank')]\n"
     ]
    }
   ],
   "source": [
    "rows = cursor.fetchall()\n",
    "# Printing the first four elements in a list\n",
    "print(rows[:4])"
   ]
  },
  {
   "cell_type": "code",
   "execution_count": 74,
   "id": "f5384f5c-61b1-4d3d-a34e-14ae8da12152",
   "metadata": {},
   "outputs": [
    {
     "data": {
      "text/html": [
       "<table><tr><td>1</td><td>ACADEMY DINOSAUR</td><td>A Epic Drama of a Feminist And a Mad Scientist who must Battle a Teacher in The Canadian Rockies</td></tr><tr><td>2</td><td>ACE GOLDFINGER</td><td>A Astounding Epistle of a Database Administrator And a Explorer who must Find a Car in Ancient China</td></tr><tr><td>3</td><td>ADAPTATION HOLES</td><td>A Astounding Reflection of a Lumberjack And a Car who must Sink a Lumberjack in A Baloon Factory</td></tr><tr><td>4</td><td>AFFAIR PREJUDICE</td><td>A Fanciful Documentary of a Frisbee And a Lumberjack who must Chase a Monkey in A Shark Tank</td></tr></table>"
      ],
      "text/plain": [
       "<IPython.core.display.HTML object>"
      ]
     },
     "metadata": {},
     "output_type": "display_data"
    }
   ],
   "source": [
    "# The above table can be better visualized below. \n",
    "table(rows[:4])"
   ]
  },
  {
   "cell_type": "markdown",
   "id": "c8f67ded-da15-4f6f-b89c-48e510660f0b",
   "metadata": {
    "tags": []
   },
   "source": [
    "## Understanding `cursor.fetchone()`"
   ]
  },
  {
   "cell_type": "markdown",
   "id": "35cf3557-8e1a-4afd-bdae-7930ec41e7b2",
   "metadata": {},
   "source": [
    "- The `cursor.fetchone()` method retrieves the next row of a query result set and returns a single sequence, or `None` if no more rows are available.\n",
    "- **TLDR**: Used to retrieve one result set at a time while `cursor.fetchall()` retrieves everything from a query result set."
   ]
  },
  {
   "cell_type": "code",
   "execution_count": 80,
   "id": "a0111152-f313-4aeb-87d2-d860e74423ac",
   "metadata": {},
   "outputs": [
    {
     "name": "stdout",
     "output_type": "stream",
     "text": [
      "backups\n",
      "classicmodels\n",
      "information_schema\n",
      "mysql\n",
      "performance_schema\n",
      "sakila\n",
      "sys\n"
     ]
    }
   ],
   "source": [
    "# This query lists all Databases from a MySQL database server.\n",
    "cursor.execute(\"SHOW DATABASES;\")\n",
    "row = cursor.fetchone()\n",
    "\n",
    "# This loop runs until cursor.fetchone() is None\n",
    "# which means no more rows are left to be returned.\n",
    "while row is not None:\n",
    "    # row is a tuple, row[0] is an element in a tuple\n",
    "    print(row[0])\n",
    "    row = cursor.fetchone()"
   ]
  },
  {
   "cell_type": "markdown",
   "id": "98ee5c04-2808-4195-9250-021287cfb65d",
   "metadata": {},
   "source": [
    "# Examples 📚"
   ]
  },
  {
   "cell_type": "markdown",
   "id": "6367dbf0-53f8-4f42-92fb-d35b30610249",
   "metadata": {},
   "source": [
    "### Display `email` of `STAFF` whose `first_name`(s) are given as a list"
   ]
  },
  {
   "cell_type": "code",
   "execution_count": 89,
   "id": "074aad6b-a334-4da1-a9d3-bbda0839d784",
   "metadata": {},
   "outputs": [
    {
     "name": "stdout",
     "output_type": "stream",
     "text": [
      "('Mike.Hillyer@sakilastaff.com',)\n",
      "('Jon.Stephens@sakilastaff.com',)\n"
     ]
    }
   ],
   "source": [
    "# List of names for which email(s) has to be returned\n",
    "names = [\"Mike\", \"Jon\"]\n",
    "\n",
    "conn = mysql.connector.connect(user='root', password='0000', host='mysql-server', database='sakila')\n",
    "cursor = conn.cursor()\n",
    "\n",
    "for name in names:\n",
    "    cursor.execute(\"SELECT email FROM staff WHERE first_name='{}';\".format(name))\n",
    "    row = cursor.fetchone()\n",
    "\n",
    "    while row is not None:\n",
    "        print(row)\n",
    "        row = cursor.fetchone()"
   ]
  },
  {
   "cell_type": "code",
   "execution_count": null,
   "id": "7e7b5ec4-09f1-4c93-80e5-7efbf8564e78",
   "metadata": {},
   "outputs": [],
   "source": []
  }
 ],
 "metadata": {
  "kernelspec": {
   "display_name": "Python 3 (ipykernel)",
   "language": "python",
   "name": "python3"
  },
  "language_info": {
   "codemirror_mode": {
    "name": "ipython",
    "version": 3
   },
   "file_extension": ".py",
   "mimetype": "text/x-python",
   "name": "python",
   "nbconvert_exporter": "python",
   "pygments_lexer": "ipython3",
   "version": "3.9.10"
  }
 },
 "nbformat": 4,
 "nbformat_minor": 5
}
