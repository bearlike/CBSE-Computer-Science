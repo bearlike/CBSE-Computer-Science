{
 "cells": [
  {
   "cell_type": "markdown",
   "id": "18954e06-35ea-4ee3-a163-fa5a59c6f5c3",
   "metadata": {},
   "source": [
    "<!-- \n",
    "Author: Krishnakanth Alagiri <https://thekrishna.in/>\n",
    "GitHub: https://github.com/bearlike\n",
    "Title: CBSE Class 12 - Working with Python and MySQL\n",
    "!-->\n",
    "\n",
    "# MySQL Connectivity in Python\n",
    "Intended for CBSE Class 12 Students\n",
    "<center><img src=\"assets/python-mysql.png\" alt=\"mysql-python\" width=\"400\"/></center>"
   ]
  },
  {
   "cell_type": "markdown",
   "id": "eeb054e1-0737-4af6-8f1f-2d933214e7e6",
   "metadata": {
    "jp-MarkdownHeadingCollapsed": true,
    "tags": []
   },
   "source": [
    "## Increase readability in the notebook 🙈"
   ]
  },
  {
   "cell_type": "markdown",
   "id": "d95e163c-3bb6-4e7e-88c0-64c289ecab66",
   "metadata": {},
   "source": [
    "<mark><b>I recommend you hide this cell since it's beyond the scope of your syllabus and can be confusing.</b></mark>"
   ]
  },
  {
   "cell_type": "code",
   "execution_count": 62,
   "id": "bc93ba49-92cf-47bf-8e67-e0fa82222e99",
   "metadata": {},
   "outputs": [],
   "source": [
    "from IPython.display import HTML, display\n",
    "# This function is specific to Jupyter notebooks and is beyond the scope of your syllabus \n",
    "def table(data: list):\n",
    "    \"\"\" Displays a list as a HTML table in Jupyter notebooks\n",
    "    Arguments:\n",
    "        - data (list): A list that should be displayed as a table\n",
    "    \"\"\"\n",
    "    display(HTML(\n",
    "       '<table><tr>{}</tr></table>'.format(\n",
    "           '</tr><tr>'.join(\n",
    "               '<td>{}</td>'.format('</td><td>'.join(str(_) for _ in row)) for row in data)\n",
    "           )\n",
    "    ))"
   ]
  },
  {
   "cell_type": "markdown",
   "id": "29f1f355-6702-4e47-8afc-af497271d408",
   "metadata": {
    "jp-MarkdownHeadingCollapsed": true,
    "tags": []
   },
   "source": [
    "<h2 style=\"color:blue\">String Formatting ✏️ (Prerequisite)</h2>"
   ]
  },
  {
   "cell_type": "markdown",
   "id": "f2070e16-782e-48ac-8d2c-5041db099c50",
   "metadata": {},
   "source": [
    "Here is the basic syntax for the `str.format()` method:\n",
    "\n",
    "`\"template string {}\".format(arguments)`\n",
    "\n",
    "Inside the template string, we can use `{}` which act as placeholders for the arguments. You might need to work with some commands through  "
   ]
  },
  {
   "cell_type": "code",
   "execution_count": 2,
   "id": "4ebcee74-db73-42ae-a400-672718986d16",
   "metadata": {},
   "outputs": [
    {
     "name": "stdout",
     "output_type": "stream",
     "text": [
      "Hello, Krishna. You are awesome\n"
     ]
    }
   ],
   "source": [
    "name = \"Krishna\"\n",
    "print(\"Hello, {}. You are {}\".format(name, \"awesome\"))"
   ]
  },
  {
   "cell_type": "markdown",
   "id": "610ae8e3-e59f-435e-9715-35dd443ade94",
   "metadata": {
    "jp-MarkdownHeadingCollapsed": true,
    "tags": []
   },
   "source": [
    "## Importing the necessary packages 📦"
   ]
  },
  {
   "cell_type": "code",
   "execution_count": 3,
   "id": "9b29d335-7be9-42da-af40-e2f092ba58e3",
   "metadata": {},
   "outputs": [],
   "source": [
    "# This command executed in your system terminal will install the mysql-connector.\n",
    "!pip install -q mysql-connector-python"
   ]
  },
  {
   "cell_type": "code",
   "execution_count": 4,
   "id": "d4ea071f-6d9e-4b27-bcf0-73b56831067a",
   "metadata": {},
   "outputs": [],
   "source": [
    "import mysql.connector"
   ]
  },
  {
   "cell_type": "markdown",
   "id": "d37d4192-a54a-4558-8c5d-6a409531e214",
   "metadata": {
    "jp-MarkdownHeadingCollapsed": true,
    "tags": []
   },
   "source": [
    "## Establishing the connection 🔌"
   ]
  },
  {
   "cell_type": "markdown",
   "id": "dca66f53-ba59-42a9-8711-0767de91fa42",
   "metadata": {},
   "source": [
    "The hostname of our database is `mysql-server` using the default port `3306`. We'll be using `root` user whose password is `0000` (not a secure password but still). We will be using the [`sakila` database](https://dev.mysql.com/doc/sakila/en/)."
   ]
  },
  {
   "cell_type": "code",
   "execution_count": 8,
   "id": "e0e8945f-107f-4c5d-aa3a-4c580baaa306",
   "metadata": {},
   "outputs": [],
   "source": [
    "conn = mysql.connector.connect(\n",
    "   user='root', password='0000', host='mysql-server', database='sakila'\n",
    ")"
   ]
  },
  {
   "cell_type": "markdown",
   "id": "ea8b8c83-e32a-403b-bb43-29042141f4b5",
   "metadata": {
    "tags": []
   },
   "source": [
    "## Creating a cursor object using the `cursor()` method\n",
    "The `MySQLCursor` of the `mysql-connector-python` package/library is used to communicate and execute queries on the MySQL database"
   ]
  },
  {
   "cell_type": "code",
   "execution_count": 9,
   "id": "7eef9afb-419c-4374-9297-849d0c29d264",
   "metadata": {},
   "outputs": [],
   "source": [
    "cursor = conn.cursor()"
   ]
  },
  {
   "cell_type": "markdown",
   "id": "62be0452-554b-4e44-ae5a-b695f9f5bd37",
   "metadata": {
    "jp-MarkdownHeadingCollapsed": true,
    "tags": []
   },
   "source": [
    "## Execute SQL query using `cursor.execute()`"
   ]
  },
  {
   "cell_type": "markdown",
   "id": "417d7113-b545-4c94-be84-15e1230c2b05",
   "metadata": {},
   "source": [
    "- Executes MySQL queries and store the retrieved records in the cursor object.\n",
    "- **Syntax**: `<cursor_object>.execute(SQL_QUERY)`"
   ]
  },
  {
   "cell_type": "code",
   "execution_count": 72,
   "id": "d44a4d99-3797-4210-8e73-4531539cc0a7",
   "metadata": {},
   "outputs": [],
   "source": [
    "# MySQL query is passed as a `string` argument to the below function  \n",
    "cursor.execute(\"SELECT * FROM film_text;\")"
   ]
  },
  {
   "cell_type": "markdown",
   "id": "a80b43a0-5865-4c6f-ba7c-2184ae7602f8",
   "metadata": {
    "jp-MarkdownHeadingCollapsed": true,
    "tags": []
   },
   "source": [
    "## Understanding `cursor.fetchall()`"
   ]
  },
  {
   "cell_type": "markdown",
   "id": "e097d6ff-b98b-4a7f-98e3-12712fa1b61e",
   "metadata": {},
   "source": [
    "- The `cursor.fetchall()` method retrieves all the rows from executed result set of a query and returns them as list of tuples. (If we execute this after retrieving few rows it returns the remaining ones).\n",
    "- MySQL commands (such as SHOW and SELECT) that fetches data from a database can use this function."
   ]
  },
  {
   "cell_type": "code",
   "execution_count": 73,
   "id": "c92245ee-f235-4499-ba68-de7d80f3b5a5",
   "metadata": {},
   "outputs": [
    {
     "name": "stdout",
     "output_type": "stream",
     "text": [
      "[(1, 'ACADEMY DINOSAUR', 'A Epic Drama of a Feminist And a Mad Scientist who must Battle a Teacher in The Canadian Rockies'), (2, 'ACE GOLDFINGER', 'A Astounding Epistle of a Database Administrator And a Explorer who must Find a Car in Ancient China'), (3, 'ADAPTATION HOLES', 'A Astounding Reflection of a Lumberjack And a Car who must Sink a Lumberjack in A Baloon Factory'), (4, 'AFFAIR PREJUDICE', 'A Fanciful Documentary of a Frisbee And a Lumberjack who must Chase a Monkey in A Shark Tank')]\n"
     ]
    }
   ],
   "source": [
    "rows = cursor.fetchall()\n",
    "# Printing the first four elements in a list\n",
    "print(rows[:4])"
   ]
  },
  {
   "cell_type": "code",
   "execution_count": 74,
   "id": "f5384f5c-61b1-4d3d-a34e-14ae8da12152",
   "metadata": {},
   "outputs": [
    {
     "data": {
      "text/html": [
       "<table><tr><td>1</td><td>ACADEMY DINOSAUR</td><td>A Epic Drama of a Feminist And a Mad Scientist who must Battle a Teacher in The Canadian Rockies</td></tr><tr><td>2</td><td>ACE GOLDFINGER</td><td>A Astounding Epistle of a Database Administrator And a Explorer who must Find a Car in Ancient China</td></tr><tr><td>3</td><td>ADAPTATION HOLES</td><td>A Astounding Reflection of a Lumberjack And a Car who must Sink a Lumberjack in A Baloon Factory</td></tr><tr><td>4</td><td>AFFAIR PREJUDICE</td><td>A Fanciful Documentary of a Frisbee And a Lumberjack who must Chase a Monkey in A Shark Tank</td></tr></table>"
      ],
      "text/plain": [
       "<IPython.core.display.HTML object>"
      ]
     },
     "metadata": {},
     "output_type": "display_data"
    }
   ],
   "source": [
    "# The above table can be better visualized below. \n",
    "table(rows[:4])"
   ]
  },
  {
   "cell_type": "markdown",
   "id": "c8f67ded-da15-4f6f-b89c-48e510660f0b",
   "metadata": {
    "tags": []
   },
   "source": [
    "## Understanding `cursor.fetchone()`"
   ]
  },
  {
   "cell_type": "markdown",
   "id": "35cf3557-8e1a-4afd-bdae-7930ec41e7b2",
   "metadata": {},
   "source": [
    "- The `cursor.fetchone()` method retrieves the next row of a query result set and returns a single sequence, or `None` if no more rows are available.\n",
    "- **TLDR**: Used to retrieve one result set at a time while `cursor.fetchall()` retrieves everything from a query result set."
   ]
  },
  {
   "cell_type": "code",
   "execution_count": 80,
   "id": "a0111152-f313-4aeb-87d2-d860e74423ac",
   "metadata": {},
   "outputs": [
    {
     "name": "stdout",
     "output_type": "stream",
     "text": [
      "backups\n",
      "classicmodels\n",
      "information_schema\n",
      "mysql\n",
      "performance_schema\n",
      "sakila\n",
      "sys\n"
     ]
    }
   ],
   "source": [
    "# This query lists all Databases from a MySQL database server.\n",
    "cursor.execute(\"SHOW DATABASES;\")\n",
    "row = cursor.fetchone()\n",
    "\n",
    "# This loop runs until cursor.fetchone() is None\n",
    "# which means no more rows are left to be returned.\n",
    "while row is not None:\n",
    "    # row is a tuple, row[0] is an element in a tuple\n",
    "    print(row[0])\n",
    "    row = cursor.fetchone()"
   ]
  },
  {
   "cell_type": "markdown",
   "id": "98ee5c04-2808-4195-9250-021287cfb65d",
   "metadata": {},
   "source": [
    "# Examples 📚"
   ]
  },
  {
   "cell_type": "markdown",
   "id": "6367dbf0-53f8-4f42-92fb-d35b30610249",
   "metadata": {},
   "source": [
    "### Display `email` of `STAFF` whose `first_name`(s) are given as a list"
   ]
  },
  {
   "cell_type": "code",
   "execution_count": 89,
   "id": "074aad6b-a334-4da1-a9d3-bbda0839d784",
   "metadata": {},
   "outputs": [
    {
     "name": "stdout",
     "output_type": "stream",
     "text": [
      "('Mike.Hillyer@sakilastaff.com',)\n",
      "('Jon.Stephens@sakilastaff.com',)\n"
     ]
    }
   ],
   "source": [
    "# List of names for which email(s) has to be returned\n",
    "names = [\"Mike\", \"Jon\"]\n",
    "\n",
    "conn = mysql.connector.connect(user='root', password='0000', host='mysql-server', database='sakila')\n",
    "cursor = conn.cursor()\n",
    "\n",
    "for name in names:\n",
    "    cursor.execute(\"SELECT email FROM staff WHERE first_name='{}';\".format(name))\n",
    "    row = cursor.fetchone()\n",
    "\n",
    "    while row is not None:\n",
    "        print(row)\n",
    "        row = cursor.fetchone()"
   ]
  },
  {
   "cell_type": "code",
   "execution_count": null,
   "id": "7e7b5ec4-09f1-4c93-80e5-7efbf8564e78",
   "metadata": {},
   "outputs": [],
   "source": []
  }
 ],
 "metadata": {
  "kernelspec": {
   "display_name": "Python 3 (ipykernel)",
   "language": "python",
   "name": "python3"
  },
  "language_info": {
   "codemirror_mode": {
    "name": "ipython",
    "version": 3
   },
   "file_extension": ".py",
   "mimetype": "text/x-python",
   "name": "python",
   "nbconvert_exporter": "python",
   "pygments_lexer": "ipython3",
   "version": "3.9.10"
  }
 },
 "nbformat": 4,
 "nbformat_minor": 5
}
